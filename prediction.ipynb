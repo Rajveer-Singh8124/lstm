{
 "cells": [
  {
   "cell_type": "code",
   "execution_count": 1,
   "metadata": {},
   "outputs": [
    {
     "name": "stdout",
     "output_type": "stream",
     "text": [
      "WARNING:tensorflow:From e:\\Deep Learning\\venv\\Lib\\site-packages\\keras\\src\\losses.py:2976: The name tf.losses.sparse_softmax_cross_entropy is deprecated. Please use tf.compat.v1.losses.sparse_softmax_cross_entropy instead.\n",
      "\n"
     ]
    }
   ],
   "source": [
    "import numpy as np\n",
    "from tensorflow.keras.preprocessing.sequence import pad_sequences"
   ]
  },
  {
   "cell_type": "code",
   "execution_count": 10,
   "metadata": {},
   "outputs": [],
   "source": [
    "from tensorflow.keras.models import load_model\n",
    "import pickle\n",
    "\n",
    "model = load_model(\"lstm_model.h5\")\n",
    "\n",
    "\n",
    "with open(\"tokerizer.pkl\",\"rb\") as f:\n",
    "    token = pickle.load(f)"
   ]
  },
  {
   "cell_type": "code",
   "execution_count": 11,
   "metadata": {},
   "outputs": [],
   "source": [
    "def predict_next_word(model,tokenizer,text,max_seq_len):\n",
    "    token_list = tokenizer.texts_to_sequences([text])[0]\n",
    "    if len(token_list)>=max_seq_len:\n",
    "        token_list = token_list[-(max_seq_len-1):]\n",
    "    token_list = pad_sequences([token_list],maxlen=max_seq_len-1)\n",
    "    predicted = model.predict(token_list,verbose=0)\n",
    "    predicted_word_index = np.argmax(predicted,axis=1)\n",
    "\n",
    "    for word,index in tokenizer.word_index.items():\n",
    "        if index== predicted_word_index:\n",
    "            return word\n",
    "    return None"
   ]
  },
  {
   "cell_type": "code",
   "execution_count": 25,
   "metadata": {},
   "outputs": [
    {
     "name": "stdout",
     "output_type": "stream",
     "text": [
      "They shared a quiet feast, as words lingered like stars in the evening age\n"
     ]
    }
   ],
   "source": [
    "input_text = \"They shared a quiet feast, as words lingered like stars in the evening\"\n",
    "\n",
    "max_sequence_len=model.input_shape[1]+1\n",
    "next_word = predict_next_word(model,token,input_text,max_seq_len=14)\n",
    "\n",
    "print(input_text + \" \"+next_word)"
   ]
  },
  {
   "cell_type": "code",
   "execution_count": null,
   "metadata": {},
   "outputs": [],
   "source": []
  },
  {
   "cell_type": "code",
   "execution_count": null,
   "metadata": {},
   "outputs": [],
   "source": []
  }
 ],
 "metadata": {
  "kernelspec": {
   "display_name": "Python 3",
   "language": "python",
   "name": "python3"
  },
  "language_info": {
   "codemirror_mode": {
    "name": "ipython",
    "version": 3
   },
   "file_extension": ".py",
   "mimetype": "text/x-python",
   "name": "python",
   "nbconvert_exporter": "python",
   "pygments_lexer": "ipython3",
   "version": "3.11.0"
  }
 },
 "nbformat": 4,
 "nbformat_minor": 2
}
